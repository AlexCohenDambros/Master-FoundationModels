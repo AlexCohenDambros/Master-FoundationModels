{
 "cells": [
  {
   "cell_type": "code",
   "execution_count": 27,
   "id": "aabf0837",
   "metadata": {},
   "outputs": [
    {
     "name": "stdout",
     "output_type": "stream",
     "text": [
      "tensor([[2353.4622, 9153.6748, 2545.6282, 2388.2737, 2863.9949, 8994.2432]])\n"
     ]
    }
   ],
   "source": [
    "import torch\n",
    "\n",
    "# Seu tensor de exemplo\n",
    "forecast = torch.tensor([[[2368.4150, 18887.5820, -233.4863, 1989.5820, 2716.9829, 4911.1611],\n",
    "                          [2290.2771, 5358.8042, 3935.1855, 834.7367, 1326.3322, 19506.9551],\n",
    "                          [2401.6938, 3214.6382, 3935.1855, 4340.5020, 4548.6689, 2564.6138]]])  # exemplo menor\n",
    "\n",
    "# Calcula a média ao longo da dimensão 1 (listas internas)\n",
    "mean_forecast = forecast.mean(dim=1)\n",
    "\n",
    "print(mean_forecast)\n"
   ]
  }
 ],
 "metadata": {
  "kernelspec": {
   "display_name": "rapids-24.06",
   "language": "python",
   "name": "python3"
  },
  "language_info": {
   "codemirror_mode": {
    "name": "ipython",
    "version": 3
   },
   "file_extension": ".py",
   "mimetype": "text/x-python",
   "name": "python",
   "nbconvert_exporter": "python",
   "pygments_lexer": "ipython3",
   "version": "3.11.9"
  }
 },
 "nbformat": 4,
 "nbformat_minor": 5
}

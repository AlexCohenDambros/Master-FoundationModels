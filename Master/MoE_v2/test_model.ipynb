{
 "cells": [
  {
   "cell_type": "code",
   "execution_count": null,
   "id": "f2043193",
   "metadata": {
    "ExecuteTime": {
     "end_time": "2025-09-08T19:25:18.231260Z",
     "start_time": "2025-09-08T19:25:18.224687Z"
    }
   },
   "outputs": [],
   "source": [
    "import subprocess\n",
    "import numpy as np\n",
    "import matplotlib.pyplot as plt\n",
    "\n",
    "# =========================\n",
    "# 1. Definir parâmetros\n",
    "# =========================\n",
    "context_length = 168  # históricos para o modelo\n",
    "horizon = 12          # passos a prever\n",
    "N = context_length + horizon  # total da série\n",
    "\n",
    "model_path = \"moe_model.pt\"\n",
    "device = \"cpu\"\n",
    "\n",
    "# =========================\n",
    "# 2. Criar série sintética \n",
    "# =========================\n",
    "t = np.arange(N)\n",
    "series = np.sin(2 * np.pi * t / 50) + 0.1 * np.random.randn(N)"
   ]
  },
  {
   "cell_type": "code",
   "execution_count": null,
   "id": "0f02d845",
   "metadata": {
    "ExecuteTime": {
     "end_time": "2025-09-08T19:26:38.711852Z",
     "start_time": "2025-09-08T19:26:37.231181Z"
    }
   },
   "outputs": [],
   "source": [
    "# =========================\n",
    "# 2. Predizer via subprocess\n",
    "# =========================\n",
    "from setup.models.modeling_model import predict_from_model\n",
    "\n",
    "preds = predict_from_model(model_path=model_path, series=series[:-horizon], horizon=horizon, context_length=context_length, device=device)\n",
    "print(preds)"
   ]
  },
  {
   "cell_type": "code",
   "execution_count": null,
   "id": "6ef66b03",
   "metadata": {},
   "outputs": [],
   "source": [
    "# =========================\n",
    "# 3. Converter saída em array\n",
    "# =========================\n",
    "pred_list = preds.squeeze(0).tolist()\n",
    "pred_array = np.array(pred_list)"
   ]
  },
  {
   "cell_type": "code",
   "execution_count": null,
   "id": "8ba9a40d",
   "metadata": {},
   "outputs": [],
   "source": [
    "pred_array"
   ]
  },
  {
   "cell_type": "code",
   "execution_count": null,
   "id": "18a694b5",
   "metadata": {},
   "outputs": [],
   "source": [
    "# =========================\n",
    "# 4. Plotar\n",
    "# =========================\n",
    "context = series[:context_length]\n",
    "future_real = series[context_length:] \n",
    "\n",
    "time_axis_context = range(context_length)\n",
    "time_axis_pred = range(context_length, context_length + horizon)\n",
    "time_axis_real = range(context_length, context_length + horizon)\n",
    "\n",
    "plt.figure(figsize=(12,6))\n",
    "plt.plot(time_axis_context, context, label=\"Contexto (real)\", color=\"blue\")\n",
    "plt.plot(time_axis_pred, pred_array, label=\"Predito (MoE)\", color=\"red\", linestyle=\"--\")\n",
    "plt.plot(time_axis_real, future_real, label=\"Valores reais futuros\", color=\"green\", linestyle=\":\")\n",
    "\n",
    "plt.axvline(context_length, color=\"gray\", linestyle=\":\", label=\"Início previsão\")\n",
    "plt.legend()\n",
    "plt.xlabel(\"Passo de tempo\")\n",
    "plt.ylabel(\"Valor\")\n",
    "plt.title(f\"Previsão MoE ({horizon} passos à frente)\")\n",
    "plt.show()"
   ]
  }
 ],
 "metadata": {
  "kernelspec": {
   "display_name": "Python 3",
   "language": "python",
   "name": "python3"
  },
  "language_info": {
   "codemirror_mode": {
    "name": "ipython",
    "version": 3
   },
   "file_extension": ".py",
   "mimetype": "text/x-python",
   "name": "python",
   "nbconvert_exporter": "python",
   "pygments_lexer": "ipython3",
   "version": "3.11.9"
  }
 },
 "nbformat": 4,
 "nbformat_minor": 5
}
